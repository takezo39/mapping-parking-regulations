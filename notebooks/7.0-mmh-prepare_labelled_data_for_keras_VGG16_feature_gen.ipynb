{
 "cells": [
  {
   "cell_type": "code",
   "execution_count": 1,
   "metadata": {
    "ExecuteTime": {
     "end_time": "2017-04-14T18:05:19.543690",
     "start_time": "2017-04-14T20:05:18.917202+02:00"
    },
    "collapsed": false
   },
   "outputs": [],
   "source": [
    "#Create train and test datasets for running in keras\n",
    "import os\n",
    "import sys\n",
    "import pandas as pd\n",
    "import numpy as np\n",
    "import shutil\n",
    "import random\n",
    "import sign_detection.features.detector as detector \n",
    "pd.set_option(\"display.notebook_repr_html\", False)"
   ]
  },
  {
   "cell_type": "code",
   "execution_count": 39,
   "metadata": {
    "ExecuteTime": {
     "end_time": "2017-03-30T20:08:17.495086",
     "start_time": "2017-03-30T22:08:17.430174+02:00"
    },
    "collapsed": false
   },
   "outputs": [],
   "source": [
    "#NB: these need to be appended with \"../data/interim/170308/labelled/\" if run from notebooks/\n",
    "sign_dir = 'sign'\n",
    "not_sign_dir = 'not_sign'\n",
    "train_dir = '../train'\n",
    "test_dir = '../test'\n",
    "\n",
    "detector.empty_dir(train_dir)\n",
    "detector.empty_dir(test_dir)"
   ]
  },
  {
   "cell_type": "code",
   "execution_count": 40,
   "metadata": {
    "ExecuteTime": {
     "end_time": "2017-03-30T20:08:18.065679",
     "start_time": "2017-03-30T22:08:17.628795+02:00"
    },
    "collapsed": false
   },
   "outputs": [],
   "source": [
    "files = [f for f in os.listdir(sign_dir) if os.path.join(sign_dir, f).endswith(\"jpg\")]\n",
    "n = 465\n",
    "n_train = 300\n",
    "n_test = n - n_train\n",
    "\n",
    "#copy random selection to train\n",
    "for x in xrange(n_train):\n",
    "    f = random.choice(files)\n",
    "    in_path =  os.path.join(sign_dir, f) \n",
    "    out_path =  os.path.join(train_dir, \"sign_\" + f)\n",
    "    shutil.copyfile(in_path, out_path)\n",
    "    files.remove(f)\n",
    "    \n",
    "#copy the rest to test\n",
    "for f in files:\n",
    "    in_path =  os.path.join(sign_dir, f) \n",
    "    out_path =  os.path.join(test_dir, \"sign_\" + f)\n",
    "    shutil.copyfile(in_path, out_path)"
   ]
  },
  {
   "cell_type": "code",
   "execution_count": 41,
   "metadata": {
    "ExecuteTime": {
     "end_time": "2017-03-30T20:08:18.722609",
     "start_time": "2017-03-30T22:08:18.580409+02:00"
    },
    "collapsed": true
   },
   "outputs": [],
   "source": [
    "files = [f for f in os.listdir(not_sign_dir) if os.path.join(not_sign_dir, f).endswith(\"jpg\")]\n",
    "n = 130\n",
    "n_train = 90\n",
    "n_test = n - n_train\n",
    "\n",
    "#copy random selection to train\n",
    "for x in xrange(n_train):\n",
    "    f = random.choice(files)\n",
    "    in_path =  os.path.join(not_sign_dir, f) \n",
    "    out_path =  os.path.join(train_dir, \"not_sign_\" + f)\n",
    "    shutil.copyfile(in_path, out_path)\n",
    "    files.remove(f)\n",
    "    \n",
    "#copy the rest to test\n",
    "for f in files:\n",
    "    in_path =  os.path.join(not_sign_dir, f) \n",
    "    out_path =  os.path.join(test_dir, \"not_sign_\" + f)\n",
    "    shutil.copyfile(in_path, out_path)"
   ]
  },
  {
   "cell_type": "code",
   "execution_count": null,
   "metadata": {
    "collapsed": true
   },
   "outputs": [],
   "source": []
  }
 ],
 "metadata": {
  "anaconda-cloud": {},
  "kernelspec": {
   "display_name": "Python [conda env:cv_py27_2]",
   "language": "python",
   "name": "conda-env-cv_py27_2-py"
  },
  "language_info": {
   "codemirror_mode": {
    "name": "ipython",
    "version": 2
   },
   "file_extension": ".py",
   "mimetype": "text/x-python",
   "name": "python",
   "nbconvert_exporter": "python",
   "pygments_lexer": "ipython2",
   "version": "2.7.13"
  }
 },
 "nbformat": 4,
 "nbformat_minor": 2
}
