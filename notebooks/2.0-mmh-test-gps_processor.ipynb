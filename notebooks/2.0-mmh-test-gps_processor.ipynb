{
 "cells": [
  {
   "cell_type": "code",
   "execution_count": 7,
   "metadata": {
    "ExecuteTime": {
     "end_time": "2017-04-03T17:26:50.199413",
     "start_time": "2017-04-03T19:26:50.182104+02:00"
    },
    "collapsed": false
   },
   "outputs": [],
   "source": [
    "from sign_detection.data.gps_processor import text2df\n",
    "text_path = \"../data/raw/170329/gps/3.29.12.47_35.txt\""
   ]
  },
  {
   "cell_type": "code",
   "execution_count": 8,
   "metadata": {
    "ExecuteTime": {
     "end_time": "2017-04-03T17:26:52.246166",
     "start_time": "2017-04-03T19:26:50.556451+02:00"
    },
    "collapsed": false
   },
   "outputs": [],
   "source": [
    "df = text2df(text_path)"
   ]
  },
  {
   "cell_type": "code",
   "execution_count": 9,
   "metadata": {
    "ExecuteTime": {
     "end_time": "2017-04-03T17:26:52.284093",
     "start_time": "2017-04-03T19:26:52.247994+02:00"
    },
    "collapsed": false
   },
   "outputs": [
    {
     "data": {
      "text/html": [
       "<div>\n",
       "<table border=\"1\" class=\"dataframe\">\n",
       "  <thead>\n",
       "    <tr style=\"text-align: right;\">\n",
       "      <th></th>\n",
       "      <th>horizontal_dil</th>\n",
       "      <th>latitude</th>\n",
       "      <th>longitude</th>\n",
       "      <th>timestamp</th>\n",
       "    </tr>\n",
       "  </thead>\n",
       "  <tbody>\n",
       "    <tr>\n",
       "      <th>0</th>\n",
       "      <td>0.90</td>\n",
       "      <td>52.528224</td>\n",
       "      <td>13.407463</td>\n",
       "      <td>10:46:45.500000</td>\n",
       "    </tr>\n",
       "    <tr>\n",
       "      <th>1</th>\n",
       "      <td>0.90</td>\n",
       "      <td>52.528224</td>\n",
       "      <td>13.407463</td>\n",
       "      <td>10:46:45.800000</td>\n",
       "    </tr>\n",
       "    <tr>\n",
       "      <th>2</th>\n",
       "      <td>0.79</td>\n",
       "      <td>52.528224</td>\n",
       "      <td>13.407463</td>\n",
       "      <td>10:46:46.100000</td>\n",
       "    </tr>\n",
       "    <tr>\n",
       "      <th>3</th>\n",
       "      <td>0.79</td>\n",
       "      <td>52.528224</td>\n",
       "      <td>13.407463</td>\n",
       "      <td>10:46:46.400000</td>\n",
       "    </tr>\n",
       "    <tr>\n",
       "      <th>4</th>\n",
       "      <td>0.79</td>\n",
       "      <td>52.528224</td>\n",
       "      <td>13.407464</td>\n",
       "      <td>10:46:46.700000</td>\n",
       "    </tr>\n",
       "  </tbody>\n",
       "</table>\n",
       "</div>"
      ],
      "text/plain": [
       "  horizontal_dil   latitude  longitude        timestamp\n",
       "0           0.90  52.528224  13.407463  10:46:45.500000\n",
       "1           0.90  52.528224  13.407463  10:46:45.800000\n",
       "2           0.79  52.528224  13.407463  10:46:46.100000\n",
       "3           0.79  52.528224  13.407463  10:46:46.400000\n",
       "4           0.79  52.528224  13.407464  10:46:46.700000"
      ]
     },
     "execution_count": 9,
     "metadata": {},
     "output_type": "execute_result"
    }
   ],
   "source": [
    "df.head()"
   ]
  },
  {
   "cell_type": "code",
   "execution_count": 11,
   "metadata": {
    "ExecuteTime": {
     "end_time": "2017-04-03T17:27:17.176082",
     "start_time": "2017-04-03T19:27:17.166529+02:00"
    },
    "collapsed": false
   },
   "outputs": [
    {
     "data": {
      "text/plain": [
       "datetime.time"
      ]
     },
     "execution_count": 11,
     "metadata": {},
     "output_type": "execute_result"
    }
   ],
   "source": [
    "type(df[\"timestamp\"][0])"
   ]
  },
  {
   "cell_type": "code",
   "execution_count": null,
   "metadata": {
    "collapsed": true
   },
   "outputs": [],
   "source": []
  }
 ],
 "metadata": {
  "kernelspec": {
   "display_name": "Python [conda env:cv_py27_2]",
   "language": "python",
   "name": "conda-env-cv_py27_2-py"
  },
  "language_info": {
   "codemirror_mode": {
    "name": "ipython",
    "version": 2
   },
   "file_extension": ".py",
   "mimetype": "text/x-python",
   "name": "python",
   "nbconvert_exporter": "python",
   "pygments_lexer": "ipython2",
   "version": "2.7.13"
  }
 },
 "nbformat": 4,
 "nbformat_minor": 2
}
