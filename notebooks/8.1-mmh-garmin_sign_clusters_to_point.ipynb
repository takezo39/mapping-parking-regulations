{
 "cells": [
  {
   "cell_type": "markdown",
   "metadata": {},
   "source": [
    "NOTE: this should eventually be converted to a Python script once the algorithm to determin the sign point is finalised"
   ]
  },
  {
   "cell_type": "code",
   "execution_count": 31,
   "metadata": {
    "ExecuteTime": {
     "end_time": "2017-04-18T10:06:21.896857Z",
     "start_time": "2017-04-18T12:06:21.884815+02:00"
    },
    "collapsed": true
   },
   "outputs": [],
   "source": [
    "import pandas as pd\n",
    "import numpy as np\n",
    "pd.set_option(\"display.notebook_repr_html\", False)"
   ]
  },
  {
   "cell_type": "code",
   "execution_count": 32,
   "metadata": {
    "ExecuteTime": {
     "end_time": "2017-04-18T10:06:22.213560Z",
     "start_time": "2017-04-18T12:06:22.193547+02:00"
    },
    "collapsed": false
   },
   "outputs": [
    {
     "data": {
      "text/plain": [
       "(76, 20)"
      ]
     },
     "execution_count": 32,
     "metadata": {},
     "output_type": "execute_result"
    }
   ],
   "source": [
    "df = pd.read_csv(\"../data/processed/170329/predictions/df_garmin_joined.csv\")\n",
    "df.shape"
   ]
  },
  {
   "cell_type": "code",
   "execution_count": 33,
   "metadata": {
    "ExecuteTime": {
     "end_time": "2017-04-18T10:06:22.501891Z",
     "start_time": "2017-04-18T12:06:22.494918+02:00"
    },
    "collapsed": true
   },
   "outputs": [],
   "source": [
    "# initialise cluster related columns\n",
    "df[\"cluster_id\"] = -1 # means that this row has not been id'ed as a sign by model\n",
    "df[\"is_cluster_main\"] = 0 # means that this is the closest point to the centre\n",
    "df[\"num_in_cluster\"] = -1 # only for rows where is_cluster_main = 1"
   ]
  },
  {
   "cell_type": "code",
   "execution_count": 34,
   "metadata": {
    "ExecuteTime": {
     "end_time": "2017-04-18T10:06:23.547591Z",
     "start_time": "2017-04-18T12:06:23.537391+02:00"
    },
    "collapsed": true
   },
   "outputs": [],
   "source": [
    "def get_main_cluster_point(cluster_members, df):\n",
    "    #find member closest to middle\n",
    "    middle = 1920/2 #middle pixel in x direction\n",
    "    closest_id = cluster_members[0]\n",
    "    closest_distance =  np.abs( df.loc[ df[\"id\"]==closest_id, \"x\"].values[0] - middle )\n",
    "    for id in cluster_members[1:]:\n",
    "        d =  np.abs( df.loc[ df[\"id\"]==id, \"x\" ].values[0] - middle)\n",
    "        #print \"distance = %d\" % d\n",
    "        if d < closest_distance:\n",
    "            closest_id = id\n",
    "            closest_distance = d\n",
    "    #print \"closest distance = %d\" % closest_distance\n",
    "    return closest_id"
   ]
  },
  {
   "cell_type": "code",
   "execution_count": 38,
   "metadata": {
    "ExecuteTime": {
     "end_time": "2017-04-18T10:18:04.881460Z",
     "start_time": "2017-04-18T12:18:04.870963+02:00"
    },
    "collapsed": false
   },
   "outputs": [],
   "source": [
    "def lookahead(iterable):\n",
    "    \"\"\"Pass through all values from the given iterable, augmented by the\n",
    "    information if there are more values to come after the current one\n",
    "    (True), or if it is the last value (False).\n",
    "    \"\"\"\n",
    "    # Get an iterator and pull the first value.\n",
    "    it = iter(iterable)\n",
    "    last = next(it)\n",
    "    # Run the iterator to exhaustion (starting from the second value).\n",
    "    for val in it:\n",
    "        # Report the *previous* value (more to come).\n",
    "        yield last, True\n",
    "        last = val\n",
    "    # Report the last value.\n",
    "    yield last, False"
   ]
  },
  {
   "cell_type": "code",
   "execution_count": 47,
   "metadata": {
    "ExecuteTime": {
     "end_time": "2017-04-18T10:27:08.620114Z",
     "start_time": "2017-04-18T12:27:08.517963+02:00"
    },
    "collapsed": false,
    "scrolled": true
   },
   "outputs": [
    {
     "name": "stdout",
     "output_type": "stream",
     "text": [
      "new cluster starting at frame 19248\n",
      "found sign\n",
      "found sign\n",
      "found sign\n",
      "found sign\n",
      "found sign\n",
      "found sign\n",
      "end of cluster. cluster_members\n",
      "['f0019248_x0758_y0378',\n",
      " 'f0019252_x0966_y0384',\n",
      " 'f0019260_x1416_y0403',\n",
      " 'f0019284_x1181_y0526',\n",
      " 'f0019288_x1415_y0541',\n",
      " 'f0019292_x1655_y0547',\n",
      " 'f0019296_x1885_y0561']\n",
      "new cluster starting at frame 19328\n",
      "found sign\n",
      "end of cluster. cluster_members\n",
      "['f0019328_x0596_y0387', 'f0019332_x0962_y0404']\n",
      "new cluster starting at frame 19504\n",
      "found sign\n",
      "end of cluster. cluster_members\n",
      "['f0019504_x0255_y0364', 'f0019508_x0650_y0359']\n",
      "new cluster starting at frame 19672\n",
      "found sign\n",
      "found sign\n",
      "found sign\n",
      "found sign\n",
      "end of cluster. cluster_members\n",
      "['f0019672_x0145_y0171',\n",
      " 'f0019676_x0315_y0186',\n",
      " 'f0019680_x0537_y0182',\n",
      " 'f0019684_x0742_y0204',\n",
      " 'f0019688_x0933_y0215']\n"
     ]
    }
   ],
   "source": [
    "import pprint\n",
    "cluster_id = 1\n",
    "am_mid_cluster = False\n",
    "frames_between_clusters = 24 #threshold of empty frames before I start a new cluster\n",
    "n_to_process = 1e6 #set to large number to process all frames\n",
    "n_processed = 0\n",
    "#base_frame_i = 18261\n",
    "#base_frame_f = 19000\n",
    "#for _, row in df[ df[\"base_frame\"].between(base_frame_i, base_frame_f) ].iterrows():\n",
    "for ((_, row), has_more) in lookahead(df.iterrows()):\n",
    "    #print \"base_frame = {}\".format(row[\"base_frame\"])\n",
    "    base_frame = row[\"base_frame\"]\n",
    "    is_sign = row[\"accum\"] > 0.4 and row[\"score\"] > 0\n",
    "    #is_sign = row[\"ymain\"] == 1\n",
    "    #end the cluster if no sign seen for frame_between_clusters frames \n",
    "    #or sign in frame but this is last frame\n",
    "    end_cluster =  (~is_sign and (base_frame-latest_cluster_frame > frames_between_clusters))\\\n",
    "                   or (is_sign and not has_more)\n",
    "    if not am_mid_cluster and is_sign:\n",
    "        #start of new cluster\n",
    "        print \"new cluster starting at frame %d\" % row[\"base_frame\"]\n",
    "        latest_cluster_frame = base_frame\n",
    "        am_mid_cluster = True\n",
    "        cluster_members = [row[\"id\"]]\n",
    "    elif not am_mid_cluster and not is_sign:\n",
    "        #not in a cluster and no sign in frame. Keep moving\n",
    "        pass\n",
    "    elif am_mid_cluster:\n",
    "        if is_sign: \n",
    "            print \"found sign\"\n",
    "            #sign in frame. Add to cluster members \n",
    "            cluster_members.append(row[\"id\"])\n",
    "            latest_cluster_frame = base_frame\n",
    "        if end_cluster:\n",
    "            # This is the end of the cluster\n",
    "            print \"end of cluster. cluster_members\"\n",
    "            pprint.pprint(cluster_members)\n",
    "            df.loc[ df[\"id\"].isin(cluster_members), \"cluster_id\" ] = cluster_id\n",
    "            cluster_id += 1\n",
    "            cluster_point_id = get_main_cluster_point(cluster_members, df)\n",
    "            df.loc[ df[\"id\"]==cluster_point_id, \"is_cluster_main\"] = 1\n",
    "            df.loc[ df[\"id\"]==cluster_point_id, \"num_in_cluster\"] = len(cluster_members)\n",
    "            #reset cluster variables\n",
    "            am_mid_cluster = False\n",
    "    else:\n",
    "        print \"WTF\"\n",
    "        print am_mid_cluster\n",
    "        print is_sign\n",
    "    n_processed += 1\n",
    "    if n_processed % 1000 == 0:\n",
    "        print n_processed\n",
    "    if n_processed > n_to_process:\n",
    "        break"
   ]
  },
  {
   "cell_type": "code",
   "execution_count": 48,
   "metadata": {
    "ExecuteTime": {
     "end_time": "2017-04-18T10:27:11.013499Z",
     "start_time": "2017-04-18T12:27:11.005808+02:00"
    },
    "collapsed": false
   },
   "outputs": [
    {
     "data": {
      "text/plain": [
       "array([-1,  1,  2,  3,  4])"
      ]
     },
     "execution_count": 48,
     "metadata": {},
     "output_type": "execute_result"
    }
   ],
   "source": [
    "df[\"cluster_id\"].unique()"
   ]
  },
  {
   "cell_type": "code",
   "execution_count": 49,
   "metadata": {
    "ExecuteTime": {
     "end_time": "2017-04-18T10:27:11.474481Z",
     "start_time": "2017-04-18T12:27:11.467658+02:00"
    },
    "collapsed": false
   },
   "outputs": [
    {
     "data": {
      "text/plain": [
       "Index([u'Unnamed: 0', u'id', u'Unnamed: 0.1', u'accum', u'area', u'base_frame',\n",
       "       u'blue_pix', u'frac_blue_area', u'frac_r_y', u'frac_red_area',\n",
       "       u'frame_num', u'lat', u'lon', u'radius', u'red_pix', u'x', u'ymain',\n",
       "       u'score', u'ypred', u'image_path', u'cluster_id', u'is_cluster_main',\n",
       "       u'num_in_cluster'],\n",
       "      dtype='object')"
      ]
     },
     "execution_count": 49,
     "metadata": {},
     "output_type": "execute_result"
    }
   ],
   "source": [
    "df.columns"
   ]
  },
  {
   "cell_type": "code",
   "execution_count": 50,
   "metadata": {
    "ExecuteTime": {
     "end_time": "2017-04-18T10:27:11.898141Z",
     "start_time": "2017-04-18T12:27:11.867522+02:00"
    },
    "collapsed": false
   },
   "outputs": [
    {
     "data": {
      "text/plain": [
       "   Unnamed: 0                    id  Unnamed: 0.1     accum         area  \\\n",
       "0           0  f0019204_x0087_y0609             0  0.250000  1963.495408   \n",
       "1           1  f0019212_x0479_y0629             1  0.201389  2642.079422   \n",
       "2           2  f0019216_x0892_y0874             2  0.215278  1963.495408   \n",
       "3           3  f0019216_x0684_y0661             3  0.312500  1963.495408   \n",
       "4           4  f0019220_x0899_y0675             4  0.326389  1963.495408   \n",
       "\n",
       "   base_frame  blue_pix  frac_blue_area  frac_r_y  frac_red_area  \\\n",
       "0       19204       523        0.266362         0       0.256176   \n",
       "1       19212       718        0.271756         0       0.235421   \n",
       "2       19216       506        0.257704         0       0.237332   \n",
       "3       19216       451        0.229692         0       0.283678   \n",
       "4       19220       373        0.189967         0       0.293354   \n",
       "\n",
       "       ...        radius  red_pix    x  ymain     score  ypred  \\\n",
       "0      ...            25      503   87    609 -0.188783      0   \n",
       "1      ...            29      622  479    629 -0.016389      0   \n",
       "2      ...            25      466  892    874 -0.051746      0   \n",
       "3      ...            25      557  684    661 -0.221544      0   \n",
       "4      ...            25      576  899    675 -0.258884      0   \n",
       "\n",
       "                                          image_path  cluster_id  \\\n",
       "0  ../data/interim/170329/images/garmin/crop/unkn...          -1   \n",
       "1  ../data/interim/170329/images/garmin/crop/unkn...          -1   \n",
       "2  ../data/interim/170329/images/garmin/crop/unkn...          -1   \n",
       "3  ../data/interim/170329/images/garmin/crop/unkn...          -1   \n",
       "4  ../data/interim/170329/images/garmin/crop/unkn...          -1   \n",
       "\n",
       "   is_cluster_main num_in_cluster  \n",
       "0                0             -1  \n",
       "1                0             -1  \n",
       "2                0             -1  \n",
       "3                0             -1  \n",
       "4                0             -1  \n",
       "\n",
       "[5 rows x 23 columns]"
      ]
     },
     "execution_count": 50,
     "metadata": {},
     "output_type": "execute_result"
    }
   ],
   "source": [
    "df.head()"
   ]
  },
  {
   "cell_type": "code",
   "execution_count": 51,
   "metadata": {
    "ExecuteTime": {
     "end_time": "2017-04-18T10:27:13.396518Z",
     "start_time": "2017-04-18T12:27:13.390273+02:00"
    },
    "collapsed": false
   },
   "outputs": [
    {
     "data": {
      "text/plain": [
       "array([-1,  7,  2,  5])"
      ]
     },
     "execution_count": 51,
     "metadata": {},
     "output_type": "execute_result"
    }
   ],
   "source": [
    "df[\"num_in_cluster\"].unique()"
   ]
  },
  {
   "cell_type": "code",
   "execution_count": 52,
   "metadata": {
    "ExecuteTime": {
     "end_time": "2017-04-18T10:27:15.717650Z",
     "start_time": "2017-04-18T12:27:15.709864+02:00"
    },
    "collapsed": true
   },
   "outputs": [],
   "source": [
    "df.to_csv(\"../data/processed/170329/predictions/df_garmin_joined_clustered.csv\")"
   ]
  },
  {
   "cell_type": "code",
   "execution_count": null,
   "metadata": {
    "collapsed": true
   },
   "outputs": [],
   "source": []
  }
 ],
 "metadata": {
  "kernelspec": {
   "display_name": "Python [conda env:cv_py27_2]",
   "language": "python",
   "name": "conda-env-cv_py27_2-py"
  },
  "language_info": {
   "codemirror_mode": {
    "name": "ipython",
    "version": 2
   },
   "file_extension": ".py",
   "mimetype": "text/x-python",
   "name": "python",
   "nbconvert_exporter": "python",
   "pygments_lexer": "ipython2",
   "version": "2.7.13"
  }
 },
 "nbformat": 4,
 "nbformat_minor": 2
}
