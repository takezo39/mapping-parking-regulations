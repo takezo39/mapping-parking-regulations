{
 "cells": [
  {
   "cell_type": "code",
   "execution_count": 1,
   "metadata": {
    "ExecuteTime": {
     "end_time": "2017-04-18T09:17:40.586098Z",
     "start_time": "2017-04-18T11:17:39.963448+02:00"
    },
    "collapsed": true
   },
   "outputs": [],
   "source": [
    "import pandas as pd\n",
    "import numpy as np"
   ]
  },
  {
   "cell_type": "markdown",
   "metadata": {},
   "source": [
    "# CANON"
   ]
  },
  {
   "cell_type": "code",
   "execution_count": 2,
   "metadata": {
    "ExecuteTime": {
     "end_time": "2017-04-14T18:27:09.926727",
     "start_time": "2017-04-14T20:27:09.880082+02:00"
    },
    "collapsed": false
   },
   "outputs": [
    {
     "data": {
      "text/html": [
       "<div>\n",
       "<table border=\"1\" class=\"dataframe\">\n",
       "  <thead>\n",
       "    <tr style=\"text-align: right;\">\n",
       "      <th></th>\n",
       "      <th>score</th>\n",
       "      <th>y</th>\n",
       "      <th>id</th>\n",
       "    </tr>\n",
       "  </thead>\n",
       "  <tbody>\n",
       "    <tr>\n",
       "      <th>0</th>\n",
       "      <td>0.095405</td>\n",
       "      <td>1</td>\n",
       "      <td>f0079857_x0850_y0953</td>\n",
       "    </tr>\n",
       "    <tr>\n",
       "      <th>1</th>\n",
       "      <td>0.064009</td>\n",
       "      <td>1</td>\n",
       "      <td>f0079856_x0865_y0945</td>\n",
       "    </tr>\n",
       "    <tr>\n",
       "      <th>2</th>\n",
       "      <td>0.101754</td>\n",
       "      <td>1</td>\n",
       "      <td>f0079855_x0875_y0947</td>\n",
       "    </tr>\n",
       "    <tr>\n",
       "      <th>3</th>\n",
       "      <td>0.110416</td>\n",
       "      <td>1</td>\n",
       "      <td>f0079854_x0887_y0950</td>\n",
       "    </tr>\n",
       "    <tr>\n",
       "      <th>4</th>\n",
       "      <td>0.145617</td>\n",
       "      <td>1</td>\n",
       "      <td>f0079853_x0899_y0955</td>\n",
       "    </tr>\n",
       "  </tbody>\n",
       "</table>\n",
       "</div>"
      ],
      "text/plain": [
       "      score  y                    id\n",
       "0  0.095405  1  f0079857_x0850_y0953\n",
       "1  0.064009  1  f0079856_x0865_y0945\n",
       "2  0.101754  1  f0079855_x0875_y0947\n",
       "3  0.110416  1  f0079854_x0887_y0950\n",
       "4  0.145617  1  f0079853_x0899_y0955"
      ]
     },
     "execution_count": 2,
     "metadata": {},
     "output_type": "execute_result"
    }
   ],
   "source": [
    "df_pred = pd.read_pickle(\"../data/processed/170329/predictions/df_canon_id_y_score.pkl\")\n",
    "df_pred.head()"
   ]
  },
  {
   "cell_type": "code",
   "execution_count": 4,
   "metadata": {
    "ExecuteTime": {
     "end_time": "2017-04-18T09:21:09.680410Z",
     "start_time": "2017-04-18T11:21:09.676533+02:00"
    },
    "collapsed": true
   },
   "outputs": [],
   "source": [
    "import os\n",
    "from os.path import join as pj"
   ]
  },
  {
   "cell_type": "code",
   "execution_count": 6,
   "metadata": {
    "ExecuteTime": {
     "end_time": "2017-04-18T09:23:11.639425Z",
     "start_time": "2017-04-18T11:23:11.624404+02:00"
    },
    "collapsed": false
   },
   "outputs": [],
   "source": [
    "#when only one dataframe:\n",
    "garmin_dir = \"../data/interim/170329/dataframes/\"\n",
    "df = pd.read_csv(pj(garmin_dir, \"garmin_19200_19696.csv\"))"
   ]
  },
  {
   "cell_type": "code",
   "execution_count": 4,
   "metadata": {
    "ExecuteTime": {
     "end_time": "2017-04-14T18:27:17.756583",
     "start_time": "2017-04-14T20:27:17.505412+02:00"
    },
    "collapsed": false
   },
   "outputs": [
    {
     "name": "stdout",
     "output_type": "stream",
     "text": [
      "(1189, 16)\n",
      "canon_10001_15000.csv\n",
      "canon_15001_20000.csv\n",
      "canon_20001_25000.csv\n",
      "canon_25001_30000.csv\n",
      "canon_30001_35000.csv\n",
      "canon_35001_40000.csv\n",
      "canon_40001_45000.csv\n",
      "canon_45001_50000.csv\n",
      "canon_50001_55000.csv\n",
      "canon_5001_10000.csv\n",
      "canon_55001_60000.csv\n",
      "canon_60001_65000.csv\n",
      "canon_65001_70000.csv\n",
      "canon_71400_75000.csv\n",
      "canon_75001_80000.csv\n"
     ]
    },
    {
     "data": {
      "text/html": [
       "<div>\n",
       "<table border=\"1\" class=\"dataframe\">\n",
       "  <thead>\n",
       "    <tr style=\"text-align: right;\">\n",
       "      <th></th>\n",
       "      <th>Unnamed: 0</th>\n",
       "      <th>accum</th>\n",
       "      <th>area</th>\n",
       "      <th>base_frame</th>\n",
       "      <th>blue_pix</th>\n",
       "      <th>frac_blue_area</th>\n",
       "      <th>frac_r_y</th>\n",
       "      <th>frac_red_area</th>\n",
       "      <th>frame_num</th>\n",
       "      <th>id</th>\n",
       "      <th>lat</th>\n",
       "      <th>lon</th>\n",
       "      <th>radius</th>\n",
       "      <th>red_pix</th>\n",
       "      <th>x</th>\n",
       "      <th>y</th>\n",
       "    </tr>\n",
       "  </thead>\n",
       "  <tbody>\n",
       "    <tr>\n",
       "      <th>0</th>\n",
       "      <td>0</td>\n",
       "      <td>0.232759</td>\n",
       "      <td>5026.548246</td>\n",
       "      <td>1280</td>\n",
       "      <td>3166</td>\n",
       "      <td>0.629856</td>\n",
       "      <td>0</td>\n",
       "      <td>0.149606</td>\n",
       "      <td>672</td>\n",
       "      <td>f0001280_x0050_y0768</td>\n",
       "      <td>52.528193</td>\n",
       "      <td>13.407471</td>\n",
       "      <td>40</td>\n",
       "      <td>752</td>\n",
       "      <td>50</td>\n",
       "      <td>768</td>\n",
       "    </tr>\n",
       "    <tr>\n",
       "      <th>1</th>\n",
       "      <td>1</td>\n",
       "      <td>0.267241</td>\n",
       "      <td>5026.548246</td>\n",
       "      <td>1426</td>\n",
       "      <td>1169</td>\n",
       "      <td>0.232565</td>\n",
       "      <td>0</td>\n",
       "      <td>0.196357</td>\n",
       "      <td>818</td>\n",
       "      <td>f0001426_x0835_y0779</td>\n",
       "      <td>52.528007</td>\n",
       "      <td>13.407335</td>\n",
       "      <td>40</td>\n",
       "      <td>987</td>\n",
       "      <td>835</td>\n",
       "      <td>779</td>\n",
       "    </tr>\n",
       "    <tr>\n",
       "      <th>2</th>\n",
       "      <td>2</td>\n",
       "      <td>0.339844</td>\n",
       "      <td>6082.123377</td>\n",
       "      <td>1428</td>\n",
       "      <td>2548</td>\n",
       "      <td>0.418933</td>\n",
       "      <td>0</td>\n",
       "      <td>0.103089</td>\n",
       "      <td>820</td>\n",
       "      <td>f0001428_x0825_y0777</td>\n",
       "      <td>52.528004</td>\n",
       "      <td>13.407332</td>\n",
       "      <td>44</td>\n",
       "      <td>627</td>\n",
       "      <td>825</td>\n",
       "      <td>777</td>\n",
       "    </tr>\n",
       "    <tr>\n",
       "      <th>3</th>\n",
       "      <td>3</td>\n",
       "      <td>0.366379</td>\n",
       "      <td>5026.548246</td>\n",
       "      <td>1429</td>\n",
       "      <td>2366</td>\n",
       "      <td>0.470701</td>\n",
       "      <td>0</td>\n",
       "      <td>0.349345</td>\n",
       "      <td>821</td>\n",
       "      <td>f0001429_x0879_y0778</td>\n",
       "      <td>52.528003</td>\n",
       "      <td>13.407331</td>\n",
       "      <td>40</td>\n",
       "      <td>1756</td>\n",
       "      <td>879</td>\n",
       "      <td>778</td>\n",
       "    </tr>\n",
       "    <tr>\n",
       "      <th>4</th>\n",
       "      <td>4</td>\n",
       "      <td>0.327586</td>\n",
       "      <td>5026.548246</td>\n",
       "      <td>1430</td>\n",
       "      <td>2661</td>\n",
       "      <td>0.529389</td>\n",
       "      <td>0</td>\n",
       "      <td>0.249873</td>\n",
       "      <td>822</td>\n",
       "      <td>f0001430_x0947_y0761</td>\n",
       "      <td>52.528001</td>\n",
       "      <td>13.407329</td>\n",
       "      <td>40</td>\n",
       "      <td>1256</td>\n",
       "      <td>947</td>\n",
       "      <td>761</td>\n",
       "    </tr>\n",
       "  </tbody>\n",
       "</table>\n",
       "</div>"
      ],
      "text/plain": [
       "   Unnamed: 0     accum         area  base_frame  blue_pix  frac_blue_area  \\\n",
       "0           0  0.232759  5026.548246        1280      3166        0.629856   \n",
       "1           1  0.267241  5026.548246        1426      1169        0.232565   \n",
       "2           2  0.339844  6082.123377        1428      2548        0.418933   \n",
       "3           3  0.366379  5026.548246        1429      2366        0.470701   \n",
       "4           4  0.327586  5026.548246        1430      2661        0.529389   \n",
       "\n",
       "   frac_r_y  frac_red_area  frame_num                    id        lat  \\\n",
       "0         0       0.149606        672  f0001280_x0050_y0768  52.528193   \n",
       "1         0       0.196357        818  f0001426_x0835_y0779  52.528007   \n",
       "2         0       0.103089        820  f0001428_x0825_y0777  52.528004   \n",
       "3         0       0.349345        821  f0001429_x0879_y0778  52.528003   \n",
       "4         0       0.249873        822  f0001430_x0947_y0761  52.528001   \n",
       "\n",
       "         lon  radius  red_pix    x    y  \n",
       "0  13.407471      40      752   50  768  \n",
       "1  13.407335      40      987  835  779  \n",
       "2  13.407332      44      627  825  777  \n",
       "3  13.407331      40     1756  879  778  \n",
       "4  13.407329      40     1256  947  761  "
      ]
     },
     "execution_count": 4,
     "metadata": {},
     "output_type": "execute_result"
    }
   ],
   "source": [
    "# when joining mutiple dataframe generated from parallelisation:\n",
    "canon_dir = \"../data/interim/170329/dataframes/\"\n",
    "df = pd.read_csv(pj(canon_dir, \"canon_1_5000.csv\"))\n",
    "print df.shape\n",
    "for f in os.listdir(canon_dir):\n",
    "    if f.startswith(\"canon\") and f != \"canon_1_5000.csv\":\n",
    "        print f\n",
    "        x = pd.read_csv(pj(canon_dir, f))\n",
    "        df = pd.concat((df, x), axis=0)\n",
    "df.head()"
   ]
  },
  {
   "cell_type": "code",
   "execution_count": 5,
   "metadata": {
    "ExecuteTime": {
     "end_time": "2017-04-14T18:27:33.068814",
     "start_time": "2017-04-14T20:27:33.061482+02:00"
    },
    "collapsed": false
   },
   "outputs": [
    {
     "data": {
      "text/plain": [
       "(22135, 16)"
      ]
     },
     "execution_count": 5,
     "metadata": {},
     "output_type": "execute_result"
    }
   ],
   "source": [
    "df.shape"
   ]
  },
  {
   "cell_type": "code",
   "execution_count": 6,
   "metadata": {
    "ExecuteTime": {
     "end_time": "2017-04-14T18:27:42.291657",
     "start_time": "2017-04-14T20:27:42.226195+02:00"
    },
    "collapsed": false
   },
   "outputs": [
    {
     "data": {
      "text/html": [
       "<div>\n",
       "<table border=\"1\" class=\"dataframe\">\n",
       "  <thead>\n",
       "    <tr style=\"text-align: right;\">\n",
       "      <th></th>\n",
       "      <th>Unnamed: 0</th>\n",
       "      <th>accum</th>\n",
       "      <th>area</th>\n",
       "      <th>base_frame</th>\n",
       "      <th>blue_pix</th>\n",
       "      <th>frac_blue_area</th>\n",
       "      <th>frac_r_y</th>\n",
       "      <th>frac_red_area</th>\n",
       "      <th>frame_num</th>\n",
       "      <th>lat</th>\n",
       "      <th>lon</th>\n",
       "      <th>radius</th>\n",
       "      <th>red_pix</th>\n",
       "      <th>x</th>\n",
       "      <th>ymain</th>\n",
       "      <th>score</th>\n",
       "      <th>ypred</th>\n",
       "    </tr>\n",
       "    <tr>\n",
       "      <th>id</th>\n",
       "      <th></th>\n",
       "      <th></th>\n",
       "      <th></th>\n",
       "      <th></th>\n",
       "      <th></th>\n",
       "      <th></th>\n",
       "      <th></th>\n",
       "      <th></th>\n",
       "      <th></th>\n",
       "      <th></th>\n",
       "      <th></th>\n",
       "      <th></th>\n",
       "      <th></th>\n",
       "      <th></th>\n",
       "      <th></th>\n",
       "      <th></th>\n",
       "      <th></th>\n",
       "    </tr>\n",
       "  </thead>\n",
       "  <tbody>\n",
       "    <tr>\n",
       "      <th>f0001280_x0050_y0768</th>\n",
       "      <td>0</td>\n",
       "      <td>0.232759</td>\n",
       "      <td>5026.548246</td>\n",
       "      <td>1280</td>\n",
       "      <td>3166</td>\n",
       "      <td>0.629856</td>\n",
       "      <td>0</td>\n",
       "      <td>0.149606</td>\n",
       "      <td>672</td>\n",
       "      <td>52.528193</td>\n",
       "      <td>13.407471</td>\n",
       "      <td>40</td>\n",
       "      <td>752</td>\n",
       "      <td>50</td>\n",
       "      <td>768</td>\n",
       "      <td>-0.420211</td>\n",
       "      <td>0</td>\n",
       "    </tr>\n",
       "    <tr>\n",
       "      <th>f0001426_x0835_y0779</th>\n",
       "      <td>1</td>\n",
       "      <td>0.267241</td>\n",
       "      <td>5026.548246</td>\n",
       "      <td>1426</td>\n",
       "      <td>1169</td>\n",
       "      <td>0.232565</td>\n",
       "      <td>0</td>\n",
       "      <td>0.196357</td>\n",
       "      <td>818</td>\n",
       "      <td>52.528007</td>\n",
       "      <td>13.407335</td>\n",
       "      <td>40</td>\n",
       "      <td>987</td>\n",
       "      <td>835</td>\n",
       "      <td>779</td>\n",
       "      <td>0.290636</td>\n",
       "      <td>1</td>\n",
       "    </tr>\n",
       "    <tr>\n",
       "      <th>f0001428_x0825_y0777</th>\n",
       "      <td>2</td>\n",
       "      <td>0.339844</td>\n",
       "      <td>6082.123377</td>\n",
       "      <td>1428</td>\n",
       "      <td>2548</td>\n",
       "      <td>0.418933</td>\n",
       "      <td>0</td>\n",
       "      <td>0.103089</td>\n",
       "      <td>820</td>\n",
       "      <td>52.528004</td>\n",
       "      <td>13.407332</td>\n",
       "      <td>44</td>\n",
       "      <td>627</td>\n",
       "      <td>825</td>\n",
       "      <td>777</td>\n",
       "      <td>-0.216052</td>\n",
       "      <td>0</td>\n",
       "    </tr>\n",
       "    <tr>\n",
       "      <th>f0001429_x0879_y0778</th>\n",
       "      <td>3</td>\n",
       "      <td>0.366379</td>\n",
       "      <td>5026.548246</td>\n",
       "      <td>1429</td>\n",
       "      <td>2366</td>\n",
       "      <td>0.470701</td>\n",
       "      <td>0</td>\n",
       "      <td>0.349345</td>\n",
       "      <td>821</td>\n",
       "      <td>52.528003</td>\n",
       "      <td>13.407331</td>\n",
       "      <td>40</td>\n",
       "      <td>1756</td>\n",
       "      <td>879</td>\n",
       "      <td>778</td>\n",
       "      <td>-0.263148</td>\n",
       "      <td>0</td>\n",
       "    </tr>\n",
       "    <tr>\n",
       "      <th>f0001430_x0947_y0761</th>\n",
       "      <td>4</td>\n",
       "      <td>0.327586</td>\n",
       "      <td>5026.548246</td>\n",
       "      <td>1430</td>\n",
       "      <td>2661</td>\n",
       "      <td>0.529389</td>\n",
       "      <td>0</td>\n",
       "      <td>0.249873</td>\n",
       "      <td>822</td>\n",
       "      <td>52.528001</td>\n",
       "      <td>13.407329</td>\n",
       "      <td>40</td>\n",
       "      <td>1256</td>\n",
       "      <td>947</td>\n",
       "      <td>761</td>\n",
       "      <td>0.094576</td>\n",
       "      <td>1</td>\n",
       "    </tr>\n",
       "  </tbody>\n",
       "</table>\n",
       "</div>"
      ],
      "text/plain": [
       "                      Unnamed: 0     accum         area  base_frame  blue_pix  \\\n",
       "id                                                                              \n",
       "f0001280_x0050_y0768           0  0.232759  5026.548246        1280      3166   \n",
       "f0001426_x0835_y0779           1  0.267241  5026.548246        1426      1169   \n",
       "f0001428_x0825_y0777           2  0.339844  6082.123377        1428      2548   \n",
       "f0001429_x0879_y0778           3  0.366379  5026.548246        1429      2366   \n",
       "f0001430_x0947_y0761           4  0.327586  5026.548246        1430      2661   \n",
       "\n",
       "                      frac_blue_area  frac_r_y  frac_red_area  frame_num  \\\n",
       "id                                                                         \n",
       "f0001280_x0050_y0768        0.629856         0       0.149606        672   \n",
       "f0001426_x0835_y0779        0.232565         0       0.196357        818   \n",
       "f0001428_x0825_y0777        0.418933         0       0.103089        820   \n",
       "f0001429_x0879_y0778        0.470701         0       0.349345        821   \n",
       "f0001430_x0947_y0761        0.529389         0       0.249873        822   \n",
       "\n",
       "                            lat        lon  radius  red_pix    x  ymain  \\\n",
       "id                                                                        \n",
       "f0001280_x0050_y0768  52.528193  13.407471      40      752   50    768   \n",
       "f0001426_x0835_y0779  52.528007  13.407335      40      987  835    779   \n",
       "f0001428_x0825_y0777  52.528004  13.407332      44      627  825    777   \n",
       "f0001429_x0879_y0778  52.528003  13.407331      40     1756  879    778   \n",
       "f0001430_x0947_y0761  52.528001  13.407329      40     1256  947    761   \n",
       "\n",
       "                         score  ypred  \n",
       "id                                     \n",
       "f0001280_x0050_y0768 -0.420211      0  \n",
       "f0001426_x0835_y0779  0.290636      1  \n",
       "f0001428_x0825_y0777 -0.216052      0  \n",
       "f0001429_x0879_y0778 -0.263148      0  \n",
       "f0001430_x0947_y0761  0.094576      1  "
      ]
     },
     "execution_count": 6,
     "metadata": {},
     "output_type": "execute_result"
    }
   ],
   "source": [
    "df.set_index(\"id\", inplace=True)\n",
    "df_pred.set_index(\"id\", inplace=True)\n",
    "df_joined = df.join(df_pred, lsuffix=\"main\", rsuffix=\"pred\")\n",
    "df_joined.head()"
   ]
  },
  {
   "cell_type": "code",
   "execution_count": 7,
   "metadata": {
    "ExecuteTime": {
     "end_time": "2017-04-14T18:27:46.454422",
     "start_time": "2017-04-14T20:27:46.448668+02:00"
    },
    "collapsed": false
   },
   "outputs": [
    {
     "data": {
      "text/plain": [
       "(22135, 17)"
      ]
     },
     "execution_count": 7,
     "metadata": {},
     "output_type": "execute_result"
    }
   ],
   "source": [
    "df_joined.shape"
   ]
  },
  {
   "cell_type": "code",
   "execution_count": 8,
   "metadata": {
    "ExecuteTime": {
     "end_time": "2017-04-14T18:28:01.396728",
     "start_time": "2017-04-14T20:28:01.347875+02:00"
    },
    "collapsed": false
   },
   "outputs": [
    {
     "data": {
      "text/html": [
       "<div>\n",
       "<table border=\"1\" class=\"dataframe\">\n",
       "  <thead>\n",
       "    <tr style=\"text-align: right;\">\n",
       "      <th></th>\n",
       "      <th>id</th>\n",
       "      <th>Unnamed: 0</th>\n",
       "      <th>accum</th>\n",
       "      <th>area</th>\n",
       "      <th>base_frame</th>\n",
       "      <th>blue_pix</th>\n",
       "      <th>frac_blue_area</th>\n",
       "      <th>frac_r_y</th>\n",
       "      <th>frac_red_area</th>\n",
       "      <th>frame_num</th>\n",
       "      <th>lat</th>\n",
       "      <th>lon</th>\n",
       "      <th>radius</th>\n",
       "      <th>red_pix</th>\n",
       "      <th>x</th>\n",
       "      <th>ymain</th>\n",
       "      <th>score</th>\n",
       "      <th>ypred</th>\n",
       "      <th>image_path</th>\n",
       "    </tr>\n",
       "  </thead>\n",
       "  <tbody>\n",
       "    <tr>\n",
       "      <th>0</th>\n",
       "      <td>f0001280_x0050_y0768</td>\n",
       "      <td>0</td>\n",
       "      <td>0.232759</td>\n",
       "      <td>5026.548246</td>\n",
       "      <td>1280</td>\n",
       "      <td>3166</td>\n",
       "      <td>0.629856</td>\n",
       "      <td>0</td>\n",
       "      <td>0.149606</td>\n",
       "      <td>672</td>\n",
       "      <td>52.528193</td>\n",
       "      <td>13.407471</td>\n",
       "      <td>40</td>\n",
       "      <td>752</td>\n",
       "      <td>50</td>\n",
       "      <td>768</td>\n",
       "      <td>-0.420211</td>\n",
       "      <td>0</td>\n",
       "      <td>../images/canon/crop/f0001280_x0050_y0768.jpg</td>\n",
       "    </tr>\n",
       "    <tr>\n",
       "      <th>1</th>\n",
       "      <td>f0001426_x0835_y0779</td>\n",
       "      <td>1</td>\n",
       "      <td>0.267241</td>\n",
       "      <td>5026.548246</td>\n",
       "      <td>1426</td>\n",
       "      <td>1169</td>\n",
       "      <td>0.232565</td>\n",
       "      <td>0</td>\n",
       "      <td>0.196357</td>\n",
       "      <td>818</td>\n",
       "      <td>52.528007</td>\n",
       "      <td>13.407335</td>\n",
       "      <td>40</td>\n",
       "      <td>987</td>\n",
       "      <td>835</td>\n",
       "      <td>779</td>\n",
       "      <td>0.290636</td>\n",
       "      <td>1</td>\n",
       "      <td>../images/canon/crop/f0001426_x0835_y0779.jpg</td>\n",
       "    </tr>\n",
       "    <tr>\n",
       "      <th>2</th>\n",
       "      <td>f0001428_x0825_y0777</td>\n",
       "      <td>2</td>\n",
       "      <td>0.339844</td>\n",
       "      <td>6082.123377</td>\n",
       "      <td>1428</td>\n",
       "      <td>2548</td>\n",
       "      <td>0.418933</td>\n",
       "      <td>0</td>\n",
       "      <td>0.103089</td>\n",
       "      <td>820</td>\n",
       "      <td>52.528004</td>\n",
       "      <td>13.407332</td>\n",
       "      <td>44</td>\n",
       "      <td>627</td>\n",
       "      <td>825</td>\n",
       "      <td>777</td>\n",
       "      <td>-0.216052</td>\n",
       "      <td>0</td>\n",
       "      <td>../images/canon/crop/f0001428_x0825_y0777.jpg</td>\n",
       "    </tr>\n",
       "    <tr>\n",
       "      <th>3</th>\n",
       "      <td>f0001429_x0879_y0778</td>\n",
       "      <td>3</td>\n",
       "      <td>0.366379</td>\n",
       "      <td>5026.548246</td>\n",
       "      <td>1429</td>\n",
       "      <td>2366</td>\n",
       "      <td>0.470701</td>\n",
       "      <td>0</td>\n",
       "      <td>0.349345</td>\n",
       "      <td>821</td>\n",
       "      <td>52.528003</td>\n",
       "      <td>13.407331</td>\n",
       "      <td>40</td>\n",
       "      <td>1756</td>\n",
       "      <td>879</td>\n",
       "      <td>778</td>\n",
       "      <td>-0.263148</td>\n",
       "      <td>0</td>\n",
       "      <td>../images/canon/crop/f0001429_x0879_y0778.jpg</td>\n",
       "    </tr>\n",
       "    <tr>\n",
       "      <th>4</th>\n",
       "      <td>f0001430_x0947_y0761</td>\n",
       "      <td>4</td>\n",
       "      <td>0.327586</td>\n",
       "      <td>5026.548246</td>\n",
       "      <td>1430</td>\n",
       "      <td>2661</td>\n",
       "      <td>0.529389</td>\n",
       "      <td>0</td>\n",
       "      <td>0.249873</td>\n",
       "      <td>822</td>\n",
       "      <td>52.528001</td>\n",
       "      <td>13.407329</td>\n",
       "      <td>40</td>\n",
       "      <td>1256</td>\n",
       "      <td>947</td>\n",
       "      <td>761</td>\n",
       "      <td>0.094576</td>\n",
       "      <td>1</td>\n",
       "      <td>../images/canon/crop/f0001430_x0947_y0761.jpg</td>\n",
       "    </tr>\n",
       "  </tbody>\n",
       "</table>\n",
       "</div>"
      ],
      "text/plain": [
       "                     id  Unnamed: 0     accum         area  base_frame  \\\n",
       "0  f0001280_x0050_y0768           0  0.232759  5026.548246        1280   \n",
       "1  f0001426_x0835_y0779           1  0.267241  5026.548246        1426   \n",
       "2  f0001428_x0825_y0777           2  0.339844  6082.123377        1428   \n",
       "3  f0001429_x0879_y0778           3  0.366379  5026.548246        1429   \n",
       "4  f0001430_x0947_y0761           4  0.327586  5026.548246        1430   \n",
       "\n",
       "   blue_pix  frac_blue_area  frac_r_y  frac_red_area  frame_num        lat  \\\n",
       "0      3166        0.629856         0       0.149606        672  52.528193   \n",
       "1      1169        0.232565         0       0.196357        818  52.528007   \n",
       "2      2548        0.418933         0       0.103089        820  52.528004   \n",
       "3      2366        0.470701         0       0.349345        821  52.528003   \n",
       "4      2661        0.529389         0       0.249873        822  52.528001   \n",
       "\n",
       "         lon  radius  red_pix    x  ymain     score  ypred  \\\n",
       "0  13.407471      40      752   50    768 -0.420211      0   \n",
       "1  13.407335      40      987  835    779  0.290636      1   \n",
       "2  13.407332      44      627  825    777 -0.216052      0   \n",
       "3  13.407331      40     1756  879    778 -0.263148      0   \n",
       "4  13.407329      40     1256  947    761  0.094576      1   \n",
       "\n",
       "                                      image_path  \n",
       "0  ../images/canon/crop/f0001280_x0050_y0768.jpg  \n",
       "1  ../images/canon/crop/f0001426_x0835_y0779.jpg  \n",
       "2  ../images/canon/crop/f0001428_x0825_y0777.jpg  \n",
       "3  ../images/canon/crop/f0001429_x0879_y0778.jpg  \n",
       "4  ../images/canon/crop/f0001430_x0947_y0761.jpg  "
      ]
     },
     "execution_count": 8,
     "metadata": {},
     "output_type": "execute_result"
    }
   ],
   "source": [
    "img_dir = \"../data/interim/170329/images/canon/crop/unknown/\"\n",
    "df_joined = df_joined.reset_index()\n",
    "df_joined[\"image_path\"] = img_dir + df_joined[\"id\"] + \".jpg\"\n",
    "df_joined.head()"
   ]
  },
  {
   "cell_type": "code",
   "execution_count": 9,
   "metadata": {
    "ExecuteTime": {
     "end_time": "2017-04-14T18:28:05.628770",
     "start_time": "2017-04-14T20:28:05.379546+02:00"
    },
    "collapsed": true
   },
   "outputs": [],
   "source": [
    "df_joined.to_csv(\"../data/processed/170329/predictions/df_canon_joined.csv\")"
   ]
  },
  {
   "cell_type": "markdown",
   "metadata": {
    "collapsed": true
   },
   "source": [
    "# Garmin"
   ]
  },
  {
   "cell_type": "code",
   "execution_count": 23,
   "metadata": {
    "ExecuteTime": {
     "end_time": "2017-04-18T09:53:34.645653Z",
     "start_time": "2017-04-18T11:53:34.630753+02:00"
    },
    "collapsed": false
   },
   "outputs": [
    {
     "data": {
      "text/html": [
       "<div>\n",
       "<table border=\"1\" class=\"dataframe\">\n",
       "  <thead>\n",
       "    <tr style=\"text-align: right;\">\n",
       "      <th></th>\n",
       "      <th>score</th>\n",
       "      <th>y</th>\n",
       "      <th>id</th>\n",
       "    </tr>\n",
       "  </thead>\n",
       "  <tbody>\n",
       "    <tr>\n",
       "      <th>0</th>\n",
       "      <td>-0.188783</td>\n",
       "      <td>0</td>\n",
       "      <td>f0019204_x0087_y0609</td>\n",
       "    </tr>\n",
       "    <tr>\n",
       "      <th>1</th>\n",
       "      <td>-0.016389</td>\n",
       "      <td>0</td>\n",
       "      <td>f0019212_x0479_y0629</td>\n",
       "    </tr>\n",
       "    <tr>\n",
       "      <th>2</th>\n",
       "      <td>-0.221544</td>\n",
       "      <td>0</td>\n",
       "      <td>f0019216_x0684_y0661</td>\n",
       "    </tr>\n",
       "    <tr>\n",
       "      <th>3</th>\n",
       "      <td>-0.051746</td>\n",
       "      <td>0</td>\n",
       "      <td>f0019216_x0892_y0874</td>\n",
       "    </tr>\n",
       "    <tr>\n",
       "      <th>4</th>\n",
       "      <td>-0.258884</td>\n",
       "      <td>0</td>\n",
       "      <td>f0019220_x0899_y0675</td>\n",
       "    </tr>\n",
       "  </tbody>\n",
       "</table>\n",
       "</div>"
      ],
      "text/plain": [
       "      score  y                    id\n",
       "0 -0.188783  0  f0019204_x0087_y0609\n",
       "1 -0.016389  0  f0019212_x0479_y0629\n",
       "2 -0.221544  0  f0019216_x0684_y0661\n",
       "3 -0.051746  0  f0019216_x0892_y0874\n",
       "4 -0.258884  0  f0019220_x0899_y0675"
      ]
     },
     "execution_count": 23,
     "metadata": {},
     "output_type": "execute_result"
    }
   ],
   "source": [
    "df_pred = pd.read_pickle(\"../data/processed/170329/predictions/df_garmin_id_y_score.pkl\")\n",
    "df_pred.head()"
   ]
  },
  {
   "cell_type": "code",
   "execution_count": 24,
   "metadata": {
    "ExecuteTime": {
     "end_time": "2017-04-18T09:53:35.436363Z",
     "start_time": "2017-04-18T11:53:35.429059+02:00"
    },
    "collapsed": false
   },
   "outputs": [],
   "source": [
    "#when only one dataframe:\n",
    "garmin_dir = \"../data/interim/170329/dataframes/\"\n",
    "df = pd.read_csv(pj(garmin_dir, \"garmin_19200_19696.csv\"))"
   ]
  },
  {
   "cell_type": "code",
   "execution_count": 15,
   "metadata": {
    "ExecuteTime": {
     "end_time": "2017-04-18T09:50:01.206778Z",
     "start_time": "2017-04-18T11:50:01.099550+02:00"
    },
    "collapsed": false
   },
   "outputs": [
    {
     "ename": "IOError",
     "evalue": "File ../data/interim/170329/dataframes/garmin_1_5000.csv does not exist",
     "output_type": "error",
     "traceback": [
      "\u001b[0;31m---------------------------------------------------------------------------\u001b[0m",
      "\u001b[0;31mIOError\u001b[0m                                   Traceback (most recent call last)",
      "\u001b[0;32m<ipython-input-15-5a36f40518d0>\u001b[0m in \u001b[0;36m<module>\u001b[0;34m()\u001b[0m\n\u001b[1;32m      1\u001b[0m \u001b[0;31m# when joining mutiple dataframe generated from parallelisation:\u001b[0m\u001b[0;34m\u001b[0m\u001b[0;34m\u001b[0m\u001b[0m\n\u001b[1;32m      2\u001b[0m \u001b[0mgarmin_dir\u001b[0m \u001b[0;34m=\u001b[0m \u001b[0;34m\"../data/interim/170329/dataframes/\"\u001b[0m\u001b[0;34m\u001b[0m\u001b[0m\n\u001b[0;32m----> 3\u001b[0;31m \u001b[0mdf\u001b[0m \u001b[0;34m=\u001b[0m \u001b[0mpd\u001b[0m\u001b[0;34m.\u001b[0m\u001b[0mread_csv\u001b[0m\u001b[0;34m(\u001b[0m\u001b[0mpj\u001b[0m\u001b[0;34m(\u001b[0m\u001b[0mgarmin_dir\u001b[0m\u001b[0;34m,\u001b[0m \u001b[0;34m\"garmin_1_5000.csv\"\u001b[0m\u001b[0;34m)\u001b[0m\u001b[0;34m)\u001b[0m\u001b[0;34m\u001b[0m\u001b[0m\n\u001b[0m\u001b[1;32m      4\u001b[0m \u001b[0;32mprint\u001b[0m \u001b[0mdf\u001b[0m\u001b[0;34m.\u001b[0m\u001b[0mshape\u001b[0m\u001b[0;34m\u001b[0m\u001b[0m\n\u001b[1;32m      5\u001b[0m \u001b[0;32mfor\u001b[0m \u001b[0mf\u001b[0m \u001b[0;32min\u001b[0m \u001b[0mos\u001b[0m\u001b[0;34m.\u001b[0m\u001b[0mlistdir\u001b[0m\u001b[0;34m(\u001b[0m\u001b[0mgarmin_dir\u001b[0m\u001b[0;34m)\u001b[0m\u001b[0;34m:\u001b[0m\u001b[0;34m\u001b[0m\u001b[0m\n",
      "\u001b[0;32m/Users/markhashimoto/anaconda/envs/cv_py27_2/lib/python2.7/site-packages/pandas/io/parsers.pyc\u001b[0m in \u001b[0;36mparser_f\u001b[0;34m(filepath_or_buffer, sep, delimiter, header, names, index_col, usecols, squeeze, prefix, mangle_dupe_cols, dtype, engine, converters, true_values, false_values, skipinitialspace, skiprows, nrows, na_values, keep_default_na, na_filter, verbose, skip_blank_lines, parse_dates, infer_datetime_format, keep_date_col, date_parser, dayfirst, iterator, chunksize, compression, thousands, decimal, lineterminator, quotechar, quoting, escapechar, comment, encoding, dialect, tupleize_cols, error_bad_lines, warn_bad_lines, skipfooter, skip_footer, doublequote, delim_whitespace, as_recarray, compact_ints, use_unsigned, low_memory, buffer_lines, memory_map, float_precision)\u001b[0m\n\u001b[1;32m    644\u001b[0m                     skip_blank_lines=skip_blank_lines)\n\u001b[1;32m    645\u001b[0m \u001b[0;34m\u001b[0m\u001b[0m\n\u001b[0;32m--> 646\u001b[0;31m         \u001b[0;32mreturn\u001b[0m \u001b[0m_read\u001b[0m\u001b[0;34m(\u001b[0m\u001b[0mfilepath_or_buffer\u001b[0m\u001b[0;34m,\u001b[0m \u001b[0mkwds\u001b[0m\u001b[0;34m)\u001b[0m\u001b[0;34m\u001b[0m\u001b[0m\n\u001b[0m\u001b[1;32m    647\u001b[0m \u001b[0;34m\u001b[0m\u001b[0m\n\u001b[1;32m    648\u001b[0m     \u001b[0mparser_f\u001b[0m\u001b[0;34m.\u001b[0m\u001b[0m__name__\u001b[0m \u001b[0;34m=\u001b[0m \u001b[0mname\u001b[0m\u001b[0;34m\u001b[0m\u001b[0m\n",
      "\u001b[0;32m/Users/markhashimoto/anaconda/envs/cv_py27_2/lib/python2.7/site-packages/pandas/io/parsers.pyc\u001b[0m in \u001b[0;36m_read\u001b[0;34m(filepath_or_buffer, kwds)\u001b[0m\n\u001b[1;32m    387\u001b[0m \u001b[0;34m\u001b[0m\u001b[0m\n\u001b[1;32m    388\u001b[0m     \u001b[0;31m# Create the parser.\u001b[0m\u001b[0;34m\u001b[0m\u001b[0;34m\u001b[0m\u001b[0m\n\u001b[0;32m--> 389\u001b[0;31m     \u001b[0mparser\u001b[0m \u001b[0;34m=\u001b[0m \u001b[0mTextFileReader\u001b[0m\u001b[0;34m(\u001b[0m\u001b[0mfilepath_or_buffer\u001b[0m\u001b[0;34m,\u001b[0m \u001b[0;34m**\u001b[0m\u001b[0mkwds\u001b[0m\u001b[0;34m)\u001b[0m\u001b[0;34m\u001b[0m\u001b[0m\n\u001b[0m\u001b[1;32m    390\u001b[0m \u001b[0;34m\u001b[0m\u001b[0m\n\u001b[1;32m    391\u001b[0m     \u001b[0;32mif\u001b[0m \u001b[0;34m(\u001b[0m\u001b[0mnrows\u001b[0m \u001b[0;32mis\u001b[0m \u001b[0;32mnot\u001b[0m \u001b[0mNone\u001b[0m\u001b[0;34m)\u001b[0m \u001b[0;32mand\u001b[0m \u001b[0;34m(\u001b[0m\u001b[0mchunksize\u001b[0m \u001b[0;32mis\u001b[0m \u001b[0;32mnot\u001b[0m \u001b[0mNone\u001b[0m\u001b[0;34m)\u001b[0m\u001b[0;34m:\u001b[0m\u001b[0;34m\u001b[0m\u001b[0m\n",
      "\u001b[0;32m/Users/markhashimoto/anaconda/envs/cv_py27_2/lib/python2.7/site-packages/pandas/io/parsers.pyc\u001b[0m in \u001b[0;36m__init__\u001b[0;34m(self, f, engine, **kwds)\u001b[0m\n\u001b[1;32m    728\u001b[0m             \u001b[0mself\u001b[0m\u001b[0;34m.\u001b[0m\u001b[0moptions\u001b[0m\u001b[0;34m[\u001b[0m\u001b[0;34m'has_index_names'\u001b[0m\u001b[0;34m]\u001b[0m \u001b[0;34m=\u001b[0m \u001b[0mkwds\u001b[0m\u001b[0;34m[\u001b[0m\u001b[0;34m'has_index_names'\u001b[0m\u001b[0;34m]\u001b[0m\u001b[0;34m\u001b[0m\u001b[0m\n\u001b[1;32m    729\u001b[0m \u001b[0;34m\u001b[0m\u001b[0m\n\u001b[0;32m--> 730\u001b[0;31m         \u001b[0mself\u001b[0m\u001b[0;34m.\u001b[0m\u001b[0m_make_engine\u001b[0m\u001b[0;34m(\u001b[0m\u001b[0mself\u001b[0m\u001b[0;34m.\u001b[0m\u001b[0mengine\u001b[0m\u001b[0;34m)\u001b[0m\u001b[0;34m\u001b[0m\u001b[0m\n\u001b[0m\u001b[1;32m    731\u001b[0m \u001b[0;34m\u001b[0m\u001b[0m\n\u001b[1;32m    732\u001b[0m     \u001b[0;32mdef\u001b[0m \u001b[0mclose\u001b[0m\u001b[0;34m(\u001b[0m\u001b[0mself\u001b[0m\u001b[0;34m)\u001b[0m\u001b[0;34m:\u001b[0m\u001b[0;34m\u001b[0m\u001b[0m\n",
      "\u001b[0;32m/Users/markhashimoto/anaconda/envs/cv_py27_2/lib/python2.7/site-packages/pandas/io/parsers.pyc\u001b[0m in \u001b[0;36m_make_engine\u001b[0;34m(self, engine)\u001b[0m\n\u001b[1;32m    921\u001b[0m     \u001b[0;32mdef\u001b[0m \u001b[0m_make_engine\u001b[0m\u001b[0;34m(\u001b[0m\u001b[0mself\u001b[0m\u001b[0;34m,\u001b[0m \u001b[0mengine\u001b[0m\u001b[0;34m=\u001b[0m\u001b[0;34m'c'\u001b[0m\u001b[0;34m)\u001b[0m\u001b[0;34m:\u001b[0m\u001b[0;34m\u001b[0m\u001b[0m\n\u001b[1;32m    922\u001b[0m         \u001b[0;32mif\u001b[0m \u001b[0mengine\u001b[0m \u001b[0;34m==\u001b[0m \u001b[0;34m'c'\u001b[0m\u001b[0;34m:\u001b[0m\u001b[0;34m\u001b[0m\u001b[0m\n\u001b[0;32m--> 923\u001b[0;31m             \u001b[0mself\u001b[0m\u001b[0;34m.\u001b[0m\u001b[0m_engine\u001b[0m \u001b[0;34m=\u001b[0m \u001b[0mCParserWrapper\u001b[0m\u001b[0;34m(\u001b[0m\u001b[0mself\u001b[0m\u001b[0;34m.\u001b[0m\u001b[0mf\u001b[0m\u001b[0;34m,\u001b[0m \u001b[0;34m**\u001b[0m\u001b[0mself\u001b[0m\u001b[0;34m.\u001b[0m\u001b[0moptions\u001b[0m\u001b[0;34m)\u001b[0m\u001b[0;34m\u001b[0m\u001b[0m\n\u001b[0m\u001b[1;32m    924\u001b[0m         \u001b[0;32melse\u001b[0m\u001b[0;34m:\u001b[0m\u001b[0;34m\u001b[0m\u001b[0m\n\u001b[1;32m    925\u001b[0m             \u001b[0;32mif\u001b[0m \u001b[0mengine\u001b[0m \u001b[0;34m==\u001b[0m \u001b[0;34m'python'\u001b[0m\u001b[0;34m:\u001b[0m\u001b[0;34m\u001b[0m\u001b[0m\n",
      "\u001b[0;32m/Users/markhashimoto/anaconda/envs/cv_py27_2/lib/python2.7/site-packages/pandas/io/parsers.pyc\u001b[0m in \u001b[0;36m__init__\u001b[0;34m(self, src, **kwds)\u001b[0m\n\u001b[1;32m   1388\u001b[0m         \u001b[0mkwds\u001b[0m\u001b[0;34m[\u001b[0m\u001b[0;34m'allow_leading_cols'\u001b[0m\u001b[0;34m]\u001b[0m \u001b[0;34m=\u001b[0m \u001b[0mself\u001b[0m\u001b[0;34m.\u001b[0m\u001b[0mindex_col\u001b[0m \u001b[0;32mis\u001b[0m \u001b[0;32mnot\u001b[0m \u001b[0mFalse\u001b[0m\u001b[0;34m\u001b[0m\u001b[0m\n\u001b[1;32m   1389\u001b[0m \u001b[0;34m\u001b[0m\u001b[0m\n\u001b[0;32m-> 1390\u001b[0;31m         \u001b[0mself\u001b[0m\u001b[0;34m.\u001b[0m\u001b[0m_reader\u001b[0m \u001b[0;34m=\u001b[0m \u001b[0m_parser\u001b[0m\u001b[0;34m.\u001b[0m\u001b[0mTextReader\u001b[0m\u001b[0;34m(\u001b[0m\u001b[0msrc\u001b[0m\u001b[0;34m,\u001b[0m \u001b[0;34m**\u001b[0m\u001b[0mkwds\u001b[0m\u001b[0;34m)\u001b[0m\u001b[0;34m\u001b[0m\u001b[0m\n\u001b[0m\u001b[1;32m   1391\u001b[0m \u001b[0;34m\u001b[0m\u001b[0m\n\u001b[1;32m   1392\u001b[0m         \u001b[0;31m# XXX\u001b[0m\u001b[0;34m\u001b[0m\u001b[0;34m\u001b[0m\u001b[0m\n",
      "\u001b[0;32mpandas/parser.pyx\u001b[0m in \u001b[0;36mpandas.parser.TextReader.__cinit__ (pandas/parser.c:4184)\u001b[0;34m()\u001b[0m\n",
      "\u001b[0;32mpandas/parser.pyx\u001b[0m in \u001b[0;36mpandas.parser.TextReader._setup_parser_source (pandas/parser.c:8449)\u001b[0;34m()\u001b[0m\n",
      "\u001b[0;31mIOError\u001b[0m: File ../data/interim/170329/dataframes/garmin_1_5000.csv does not exist"
     ]
    }
   ],
   "source": [
    "# when joining mutiple dataframe generated from parallelisation:\n",
    "garmin_dir = \"../data/interim/170329/dataframes/\"\n",
    "df = pd.read_csv(pj(garmin_dir, \"garmin_1_5000.csv\"))\n",
    "print df.shape\n",
    "for f in os.listdir(garmin_dir):\n",
    "    if f.startswith(\"garmin\") and f != \"garmin_1_5000.csv\":\n",
    "        print f\n",
    "        x = pd.read_csv(pj(garmin_dir, f))\n",
    "        df = pd.concat((df, x), axis=0)\n",
    "df.head()"
   ]
  },
  {
   "cell_type": "code",
   "execution_count": 25,
   "metadata": {
    "ExecuteTime": {
     "end_time": "2017-04-18T09:53:38.228053Z",
     "start_time": "2017-04-18T11:53:38.221241+02:00"
    },
    "collapsed": false
   },
   "outputs": [
    {
     "data": {
      "text/plain": [
       "(76, 16)"
      ]
     },
     "execution_count": 25,
     "metadata": {},
     "output_type": "execute_result"
    }
   ],
   "source": [
    "df.shape"
   ]
  },
  {
   "cell_type": "code",
   "execution_count": 26,
   "metadata": {
    "ExecuteTime": {
     "end_time": "2017-04-18T09:53:38.453617Z",
     "start_time": "2017-04-18T11:53:38.405728+02:00"
    },
    "collapsed": false
   },
   "outputs": [
    {
     "data": {
      "text/html": [
       "<div>\n",
       "<table border=\"1\" class=\"dataframe\">\n",
       "  <thead>\n",
       "    <tr style=\"text-align: right;\">\n",
       "      <th></th>\n",
       "      <th>Unnamed: 0</th>\n",
       "      <th>accum</th>\n",
       "      <th>area</th>\n",
       "      <th>base_frame</th>\n",
       "      <th>blue_pix</th>\n",
       "      <th>frac_blue_area</th>\n",
       "      <th>frac_r_y</th>\n",
       "      <th>frac_red_area</th>\n",
       "      <th>frame_num</th>\n",
       "      <th>lat</th>\n",
       "      <th>lon</th>\n",
       "      <th>radius</th>\n",
       "      <th>red_pix</th>\n",
       "      <th>x</th>\n",
       "      <th>ymain</th>\n",
       "      <th>score</th>\n",
       "      <th>ypred</th>\n",
       "    </tr>\n",
       "    <tr>\n",
       "      <th>id</th>\n",
       "      <th></th>\n",
       "      <th></th>\n",
       "      <th></th>\n",
       "      <th></th>\n",
       "      <th></th>\n",
       "      <th></th>\n",
       "      <th></th>\n",
       "      <th></th>\n",
       "      <th></th>\n",
       "      <th></th>\n",
       "      <th></th>\n",
       "      <th></th>\n",
       "      <th></th>\n",
       "      <th></th>\n",
       "      <th></th>\n",
       "      <th></th>\n",
       "      <th></th>\n",
       "    </tr>\n",
       "  </thead>\n",
       "  <tbody>\n",
       "    <tr>\n",
       "      <th>f0019204_x0087_y0609</th>\n",
       "      <td>0</td>\n",
       "      <td>0.250000</td>\n",
       "      <td>1963.495408</td>\n",
       "      <td>19204</td>\n",
       "      <td>523</td>\n",
       "      <td>0.266362</td>\n",
       "      <td>0</td>\n",
       "      <td>0.256176</td>\n",
       "      <td>4</td>\n",
       "      <td>52.528747</td>\n",
       "      <td>13.405099</td>\n",
       "      <td>25</td>\n",
       "      <td>503</td>\n",
       "      <td>87</td>\n",
       "      <td>609</td>\n",
       "      <td>-0.188783</td>\n",
       "      <td>0</td>\n",
       "    </tr>\n",
       "    <tr>\n",
       "      <th>f0019212_x0479_y0629</th>\n",
       "      <td>1</td>\n",
       "      <td>0.201389</td>\n",
       "      <td>2642.079422</td>\n",
       "      <td>19212</td>\n",
       "      <td>718</td>\n",
       "      <td>0.271756</td>\n",
       "      <td>0</td>\n",
       "      <td>0.235421</td>\n",
       "      <td>12</td>\n",
       "      <td>52.528746</td>\n",
       "      <td>13.405108</td>\n",
       "      <td>29</td>\n",
       "      <td>622</td>\n",
       "      <td>479</td>\n",
       "      <td>629</td>\n",
       "      <td>-0.016389</td>\n",
       "      <td>0</td>\n",
       "    </tr>\n",
       "    <tr>\n",
       "      <th>f0019216_x0892_y0874</th>\n",
       "      <td>2</td>\n",
       "      <td>0.215278</td>\n",
       "      <td>1963.495408</td>\n",
       "      <td>19216</td>\n",
       "      <td>506</td>\n",
       "      <td>0.257704</td>\n",
       "      <td>0</td>\n",
       "      <td>0.237332</td>\n",
       "      <td>16</td>\n",
       "      <td>52.528745</td>\n",
       "      <td>13.405112</td>\n",
       "      <td>25</td>\n",
       "      <td>466</td>\n",
       "      <td>892</td>\n",
       "      <td>874</td>\n",
       "      <td>-0.051746</td>\n",
       "      <td>0</td>\n",
       "    </tr>\n",
       "    <tr>\n",
       "      <th>f0019216_x0684_y0661</th>\n",
       "      <td>3</td>\n",
       "      <td>0.312500</td>\n",
       "      <td>1963.495408</td>\n",
       "      <td>19216</td>\n",
       "      <td>451</td>\n",
       "      <td>0.229692</td>\n",
       "      <td>0</td>\n",
       "      <td>0.283678</td>\n",
       "      <td>16</td>\n",
       "      <td>52.528745</td>\n",
       "      <td>13.405112</td>\n",
       "      <td>25</td>\n",
       "      <td>557</td>\n",
       "      <td>684</td>\n",
       "      <td>661</td>\n",
       "      <td>-0.221544</td>\n",
       "      <td>0</td>\n",
       "    </tr>\n",
       "    <tr>\n",
       "      <th>f0019220_x0899_y0675</th>\n",
       "      <td>4</td>\n",
       "      <td>0.326389</td>\n",
       "      <td>1963.495408</td>\n",
       "      <td>19220</td>\n",
       "      <td>373</td>\n",
       "      <td>0.189967</td>\n",
       "      <td>0</td>\n",
       "      <td>0.293354</td>\n",
       "      <td>20</td>\n",
       "      <td>52.528745</td>\n",
       "      <td>13.405115</td>\n",
       "      <td>25</td>\n",
       "      <td>576</td>\n",
       "      <td>899</td>\n",
       "      <td>675</td>\n",
       "      <td>-0.258884</td>\n",
       "      <td>0</td>\n",
       "    </tr>\n",
       "  </tbody>\n",
       "</table>\n",
       "</div>"
      ],
      "text/plain": [
       "                      Unnamed: 0     accum         area  base_frame  blue_pix  \\\n",
       "id                                                                              \n",
       "f0019204_x0087_y0609           0  0.250000  1963.495408       19204       523   \n",
       "f0019212_x0479_y0629           1  0.201389  2642.079422       19212       718   \n",
       "f0019216_x0892_y0874           2  0.215278  1963.495408       19216       506   \n",
       "f0019216_x0684_y0661           3  0.312500  1963.495408       19216       451   \n",
       "f0019220_x0899_y0675           4  0.326389  1963.495408       19220       373   \n",
       "\n",
       "                      frac_blue_area  frac_r_y  frac_red_area  frame_num  \\\n",
       "id                                                                         \n",
       "f0019204_x0087_y0609        0.266362         0       0.256176          4   \n",
       "f0019212_x0479_y0629        0.271756         0       0.235421         12   \n",
       "f0019216_x0892_y0874        0.257704         0       0.237332         16   \n",
       "f0019216_x0684_y0661        0.229692         0       0.283678         16   \n",
       "f0019220_x0899_y0675        0.189967         0       0.293354         20   \n",
       "\n",
       "                            lat        lon  radius  red_pix    x  ymain  \\\n",
       "id                                                                        \n",
       "f0019204_x0087_y0609  52.528747  13.405099      25      503   87    609   \n",
       "f0019212_x0479_y0629  52.528746  13.405108      29      622  479    629   \n",
       "f0019216_x0892_y0874  52.528745  13.405112      25      466  892    874   \n",
       "f0019216_x0684_y0661  52.528745  13.405112      25      557  684    661   \n",
       "f0019220_x0899_y0675  52.528745  13.405115      25      576  899    675   \n",
       "\n",
       "                         score  ypred  \n",
       "id                                     \n",
       "f0019204_x0087_y0609 -0.188783      0  \n",
       "f0019212_x0479_y0629 -0.016389      0  \n",
       "f0019216_x0892_y0874 -0.051746      0  \n",
       "f0019216_x0684_y0661 -0.221544      0  \n",
       "f0019220_x0899_y0675 -0.258884      0  "
      ]
     },
     "execution_count": 26,
     "metadata": {},
     "output_type": "execute_result"
    }
   ],
   "source": [
    "df.set_index(\"id\", inplace=True)\n",
    "df_pred.set_index(\"id\", inplace=True)\n",
    "df_joined = df.join(df_pred, lsuffix=\"main\", rsuffix=\"pred\")\n",
    "df_joined.head()"
   ]
  },
  {
   "cell_type": "code",
   "execution_count": 27,
   "metadata": {
    "ExecuteTime": {
     "end_time": "2017-04-18T09:53:38.553080Z",
     "start_time": "2017-04-18T11:53:38.547526+02:00"
    },
    "collapsed": false
   },
   "outputs": [
    {
     "data": {
      "text/plain": [
       "(76, 17)"
      ]
     },
     "execution_count": 27,
     "metadata": {},
     "output_type": "execute_result"
    }
   ],
   "source": [
    "df_joined.shape"
   ]
  },
  {
   "cell_type": "code",
   "execution_count": 28,
   "metadata": {
    "ExecuteTime": {
     "end_time": "2017-04-18T09:53:38.731334Z",
     "start_time": "2017-04-18T11:53:38.678333+02:00"
    },
    "collapsed": false
   },
   "outputs": [
    {
     "data": {
      "text/html": [
       "<div>\n",
       "<table border=\"1\" class=\"dataframe\">\n",
       "  <thead>\n",
       "    <tr style=\"text-align: right;\">\n",
       "      <th></th>\n",
       "      <th>id</th>\n",
       "      <th>Unnamed: 0</th>\n",
       "      <th>accum</th>\n",
       "      <th>area</th>\n",
       "      <th>base_frame</th>\n",
       "      <th>blue_pix</th>\n",
       "      <th>frac_blue_area</th>\n",
       "      <th>frac_r_y</th>\n",
       "      <th>frac_red_area</th>\n",
       "      <th>frame_num</th>\n",
       "      <th>lat</th>\n",
       "      <th>lon</th>\n",
       "      <th>radius</th>\n",
       "      <th>red_pix</th>\n",
       "      <th>x</th>\n",
       "      <th>ymain</th>\n",
       "      <th>score</th>\n",
       "      <th>ypred</th>\n",
       "      <th>image_path</th>\n",
       "    </tr>\n",
       "  </thead>\n",
       "  <tbody>\n",
       "    <tr>\n",
       "      <th>0</th>\n",
       "      <td>f0019204_x0087_y0609</td>\n",
       "      <td>0</td>\n",
       "      <td>0.250000</td>\n",
       "      <td>1963.495408</td>\n",
       "      <td>19204</td>\n",
       "      <td>523</td>\n",
       "      <td>0.266362</td>\n",
       "      <td>0</td>\n",
       "      <td>0.256176</td>\n",
       "      <td>4</td>\n",
       "      <td>52.528747</td>\n",
       "      <td>13.405099</td>\n",
       "      <td>25</td>\n",
       "      <td>503</td>\n",
       "      <td>87</td>\n",
       "      <td>609</td>\n",
       "      <td>-0.188783</td>\n",
       "      <td>0</td>\n",
       "      <td>../data/interim/170329/images/garmin/crop/unkn...</td>\n",
       "    </tr>\n",
       "    <tr>\n",
       "      <th>1</th>\n",
       "      <td>f0019212_x0479_y0629</td>\n",
       "      <td>1</td>\n",
       "      <td>0.201389</td>\n",
       "      <td>2642.079422</td>\n",
       "      <td>19212</td>\n",
       "      <td>718</td>\n",
       "      <td>0.271756</td>\n",
       "      <td>0</td>\n",
       "      <td>0.235421</td>\n",
       "      <td>12</td>\n",
       "      <td>52.528746</td>\n",
       "      <td>13.405108</td>\n",
       "      <td>29</td>\n",
       "      <td>622</td>\n",
       "      <td>479</td>\n",
       "      <td>629</td>\n",
       "      <td>-0.016389</td>\n",
       "      <td>0</td>\n",
       "      <td>../data/interim/170329/images/garmin/crop/unkn...</td>\n",
       "    </tr>\n",
       "    <tr>\n",
       "      <th>2</th>\n",
       "      <td>f0019216_x0892_y0874</td>\n",
       "      <td>2</td>\n",
       "      <td>0.215278</td>\n",
       "      <td>1963.495408</td>\n",
       "      <td>19216</td>\n",
       "      <td>506</td>\n",
       "      <td>0.257704</td>\n",
       "      <td>0</td>\n",
       "      <td>0.237332</td>\n",
       "      <td>16</td>\n",
       "      <td>52.528745</td>\n",
       "      <td>13.405112</td>\n",
       "      <td>25</td>\n",
       "      <td>466</td>\n",
       "      <td>892</td>\n",
       "      <td>874</td>\n",
       "      <td>-0.051746</td>\n",
       "      <td>0</td>\n",
       "      <td>../data/interim/170329/images/garmin/crop/unkn...</td>\n",
       "    </tr>\n",
       "    <tr>\n",
       "      <th>3</th>\n",
       "      <td>f0019216_x0684_y0661</td>\n",
       "      <td>3</td>\n",
       "      <td>0.312500</td>\n",
       "      <td>1963.495408</td>\n",
       "      <td>19216</td>\n",
       "      <td>451</td>\n",
       "      <td>0.229692</td>\n",
       "      <td>0</td>\n",
       "      <td>0.283678</td>\n",
       "      <td>16</td>\n",
       "      <td>52.528745</td>\n",
       "      <td>13.405112</td>\n",
       "      <td>25</td>\n",
       "      <td>557</td>\n",
       "      <td>684</td>\n",
       "      <td>661</td>\n",
       "      <td>-0.221544</td>\n",
       "      <td>0</td>\n",
       "      <td>../data/interim/170329/images/garmin/crop/unkn...</td>\n",
       "    </tr>\n",
       "    <tr>\n",
       "      <th>4</th>\n",
       "      <td>f0019220_x0899_y0675</td>\n",
       "      <td>4</td>\n",
       "      <td>0.326389</td>\n",
       "      <td>1963.495408</td>\n",
       "      <td>19220</td>\n",
       "      <td>373</td>\n",
       "      <td>0.189967</td>\n",
       "      <td>0</td>\n",
       "      <td>0.293354</td>\n",
       "      <td>20</td>\n",
       "      <td>52.528745</td>\n",
       "      <td>13.405115</td>\n",
       "      <td>25</td>\n",
       "      <td>576</td>\n",
       "      <td>899</td>\n",
       "      <td>675</td>\n",
       "      <td>-0.258884</td>\n",
       "      <td>0</td>\n",
       "      <td>../data/interim/170329/images/garmin/crop/unkn...</td>\n",
       "    </tr>\n",
       "  </tbody>\n",
       "</table>\n",
       "</div>"
      ],
      "text/plain": [
       "                     id  Unnamed: 0     accum         area  base_frame  \\\n",
       "0  f0019204_x0087_y0609           0  0.250000  1963.495408       19204   \n",
       "1  f0019212_x0479_y0629           1  0.201389  2642.079422       19212   \n",
       "2  f0019216_x0892_y0874           2  0.215278  1963.495408       19216   \n",
       "3  f0019216_x0684_y0661           3  0.312500  1963.495408       19216   \n",
       "4  f0019220_x0899_y0675           4  0.326389  1963.495408       19220   \n",
       "\n",
       "   blue_pix  frac_blue_area  frac_r_y  frac_red_area  frame_num        lat  \\\n",
       "0       523        0.266362         0       0.256176          4  52.528747   \n",
       "1       718        0.271756         0       0.235421         12  52.528746   \n",
       "2       506        0.257704         0       0.237332         16  52.528745   \n",
       "3       451        0.229692         0       0.283678         16  52.528745   \n",
       "4       373        0.189967         0       0.293354         20  52.528745   \n",
       "\n",
       "         lon  radius  red_pix    x  ymain     score  ypred  \\\n",
       "0  13.405099      25      503   87    609 -0.188783      0   \n",
       "1  13.405108      29      622  479    629 -0.016389      0   \n",
       "2  13.405112      25      466  892    874 -0.051746      0   \n",
       "3  13.405112      25      557  684    661 -0.221544      0   \n",
       "4  13.405115      25      576  899    675 -0.258884      0   \n",
       "\n",
       "                                          image_path  \n",
       "0  ../data/interim/170329/images/garmin/crop/unkn...  \n",
       "1  ../data/interim/170329/images/garmin/crop/unkn...  \n",
       "2  ../data/interim/170329/images/garmin/crop/unkn...  \n",
       "3  ../data/interim/170329/images/garmin/crop/unkn...  \n",
       "4  ../data/interim/170329/images/garmin/crop/unkn...  "
      ]
     },
     "execution_count": 28,
     "metadata": {},
     "output_type": "execute_result"
    }
   ],
   "source": [
    "img_dir = \"../data/interim/170329/images/garmin/crop/unknown/\"\n",
    "df_joined = df_joined.reset_index()\n",
    "df_joined[\"image_path\"] = img_dir + df_joined[\"id\"] + \".jpg\"\n",
    "df_joined.head()"
   ]
  },
  {
   "cell_type": "code",
   "execution_count": 29,
   "metadata": {
    "ExecuteTime": {
     "end_time": "2017-04-18T09:53:38.834737Z",
     "start_time": "2017-04-18T11:53:38.829209+02:00"
    },
    "collapsed": false
   },
   "outputs": [
    {
     "data": {
      "text/plain": [
       "(76, 19)"
      ]
     },
     "execution_count": 29,
     "metadata": {},
     "output_type": "execute_result"
    }
   ],
   "source": [
    "df_joined.shape"
   ]
  },
  {
   "cell_type": "code",
   "execution_count": 30,
   "metadata": {
    "ExecuteTime": {
     "end_time": "2017-04-18T09:53:38.939682Z",
     "start_time": "2017-04-18T11:53:38.932149+02:00"
    },
    "collapsed": false
   },
   "outputs": [],
   "source": [
    "df_joined.to_csv(\"../data/processed/170329/predictions/df_garmin_joined.csv\")"
   ]
  },
  {
   "cell_type": "code",
   "execution_count": null,
   "metadata": {
    "collapsed": true
   },
   "outputs": [],
   "source": []
  },
  {
   "cell_type": "code",
   "execution_count": null,
   "metadata": {
    "collapsed": true
   },
   "outputs": [],
   "source": []
  }
 ],
 "metadata": {
  "anaconda-cloud": {},
  "kernelspec": {
   "display_name": "Python [conda env:cv_py27_2]",
   "language": "python",
   "name": "conda-env-cv_py27_2-py"
  },
  "language_info": {
   "codemirror_mode": {
    "name": "ipython",
    "version": 2
   },
   "file_extension": ".py",
   "mimetype": "text/x-python",
   "name": "python",
   "nbconvert_exporter": "python",
   "pygments_lexer": "ipython2",
   "version": "2.7.13"
  }
 },
 "nbformat": 4,
 "nbformat_minor": 2
}
